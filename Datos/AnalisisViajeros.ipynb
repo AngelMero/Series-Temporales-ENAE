{
 "cells": [
  {
   "cell_type": "code",
   "execution_count": 4,
   "id": "815f0ace-1cc4-46f2-bea7-649b3899d5b6",
   "metadata": {
    "editable": true,
    "slideshow": {
     "slide_type": ""
    },
    "tags": []
   },
   "outputs": [
    {
     "name": "stdout",
     "output_type": "stream",
     "text": [
      "Las fechas no están en orden cronológico o hay duplicados.\n",
      "No hay valores faltantes en los datos.\n"
     ]
    }
   ],
   "source": [
    "import pandas as pd\n",
    "\n",
    "df = pd.read_csv(\"ViajerosTren.csv\", sep=\";\")\n",
    "df['fecha'] = pd.to_datetime(df['fecha'], format='%d-%m-%Y')\n",
    "df['viajeros'] = df['viajeros'].str.replace('.', '').astype(int)\n",
    "\n",
    "if not df['fecha'].is_monotonic_increasing or df['fecha'].duplicated().any():\n",
    "    print(\"Las fechas no están en orden cronológico o hay duplicados.\")\n",
    "else:\n",
    "    print(\"Las fechas están en orden y no hay duplicados.\")\n",
    "\n",
    "if df.isnull().values.any():\n",
    "    print(\"Hay valores faltantes en los datos.\")\n",
    "else:\n",
    "    print(\"No hay valores faltantes en los datos.\")"
   ]
  }
 ],
 "metadata": {
  "kernelspec": {
   "display_name": "Python 3 (ipykernel)",
   "language": "python",
   "name": "python3"
  },
  "language_info": {
   "codemirror_mode": {
    "name": "ipython",
    "version": 3
   },
   "file_extension": ".py",
   "mimetype": "text/x-python",
   "name": "python",
   "nbconvert_exporter": "python",
   "pygments_lexer": "ipython3",
   "version": "3.8.18"
  }
 },
 "nbformat": 4,
 "nbformat_minor": 5
}
